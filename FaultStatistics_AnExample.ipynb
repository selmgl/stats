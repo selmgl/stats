{
 "cells": [
  {
   "cell_type": "markdown",
   "metadata": {},
   "source": [
    "# Modelling Faults Using Probability Distributions\n",
    "## An Example\n",
    "\n",
    "Notes: this paper is under construction, using jupyter notebook to trace probabilistic distributions in python  \n",
    "Version 1.0, Feb2017  \n",
    "Requirements for jupiter file: python kernel 2.7, pyplot, numpy, scipy, math\n"
   ]
  },
  {
   "cell_type": "markdown",
   "metadata": {},
   "source": [
    "## From Data to Distribution through Fitting\n",
    "\n",
    "We will start from data and use fitting to associate them to a distribution."
   ]
  },
  {
   "cell_type": "markdown",
   "metadata": {},
   "source": [
    "Let us first create sample data. For this example we will create samples with a normal distribution, and plot them as an histogram.  \n",
    "This simulates gathering data and plotting time versus number of events (faults) happening in a time slot."
   ]
  },
  {
   "cell_type": "code",
   "execution_count": 35,
   "metadata": {
    "collapsed": false
   },
   "outputs": [
    {
     "data": {
      "image/png": "[encoded data removed]",
      "text/plain": [
       "<matplotlib.figure.Figure at 0xb049780>"
      ]
     },
     "metadata": {},
     "output_type": "display_data"
    }
   ],
   "source": [
    "# fitting example\n",
    "from numpy import linspace\n",
    "#from pylab import plot,show,hist,figure,title,clf\n",
    "import matplotlib.pyplot as plt\n",
    "\n",
    "# picking 150 of from a normal distrubution\n",
    "# with mean 0 and standard deviation 1\n",
    "samp = norm.rvs(loc=10,scale=1,size=150) \n",
    "\n",
    "# let us display this distribution through an histogram\n",
    "plt.clf()\n",
    "plt.title('Normal distribution')\n",
    "plt.ylabel(\"samples\")\n",
    "plt.xlabel(\"time\")\n",
    "plt.axis([0, 20, 0, 0.5])\n",
    "plt.hist(samp, normed=1, ls='dashed', alpha = 0.3, lw=3, color= 'k')\n",
    "plt.show()"
   ]
  },
  {
   "cell_type": "markdown",
   "metadata": {},
   "source": [
    "Let us now fit a distribution to the data gathered."
   ]
  },
  {
   "cell_type": "code",
   "execution_count": 36,
   "metadata": {
    "collapsed": false
   },
   "outputs": [
    {
     "data": {
      "image/png": "[encoded data removed]",
      "text/plain": [
       "<matplotlib.figure.Figure at 0xaba8588>"
      ]
     },
     "metadata": {},
     "output_type": "display_data"
    }
   ],
   "source": [
    "from scipy.stats import norm, lognorm\n",
    "\n",
    "# distribution fitting\n",
    "param_norm = norm.fit(samp)\n",
    "\n",
    "# now, param[0] and param[1] are the mean and \n",
    "# the standard deviation of the fitted distribution\n",
    "x = linspace(5,15,100)\n",
    "# fitted distribution\n",
    "fitted_norm = norm.pdf(x, loc=param_norm[0], scale=param_norm[1])\n",
    "\n",
    "plt.clf()\n",
    "plt.title('Normal distribution')\n",
    "plt.ylabel(\"normal dist\")\n",
    "plt.xlabel(\"time\")\n",
    "plt.axis([0, 20, 0, 0.5])\n",
    "plt.plot(x, fitted_norm, 'b-')\n",
    "plt.hist(samp, normed=1, ls='dashed', alpha = 0.3, lw=3, color= 'k')\n",
    "plt.show()"
   ]
  },
  {
   "cell_type": "markdown",
   "metadata": {},
   "source": [
    "When fitting a normal distribution to our data it is clear it models them well. Considering we used a normal distribution to simulate them at the start this is not a surprise.  \n",
    "This illustrates though how to use fitting to link a dataset to a probabilistic distribution."
   ]
  },
  {
   "cell_type": "code",
   "execution_count": null,
   "metadata": {
    "collapsed": true
   },
   "outputs": [],
   "source": []
  }
 ],
 "metadata": {
  "kernelspec": {
   "display_name": "Python [conda root]",
   "language": "python",
   "name": "conda-root-py"
  },
  "language_info": {
   "codemirror_mode": {
    "name": "ipython",
    "version": 2
   },
   "file_extension": ".py",
   "mimetype": "text/x-python",
   "name": "python",
   "nbconvert_exporter": "python",
   "pygments_lexer": "ipython2",
   "version": "2.7.13"
  }
 },
 "nbformat": 4,
 "nbformat_minor": 2
}
